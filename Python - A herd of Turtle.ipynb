{
 "cells": [
  {
   "cell_type": "code",
   "execution_count": 1,
   "id": "b3a7cc0d",
   "metadata": {},
   "outputs": [],
   "source": [
    "import turtle"
   ]
  },
  {
   "cell_type": "code",
   "execution_count": 2,
   "id": "39ba3f9e",
   "metadata": {},
   "outputs": [],
   "source": [
    "wn = turtle.Screen()\n",
    "wn.bgcolor(\"light green\")\n",
    "\n",
    "tess = turtle.Turtle()\n",
    "tess.pensize(5)\n",
    "\n",
    "alex = turtle.Turtle()\n",
    "alex.color(\"hotpink\")\n",
    "\n",
    "tess.forward(80)\n",
    "tess.left(120)\n",
    "tess.forward(80)\n",
    "tess.left(120)\n",
    "tess.forward(80)\n",
    "tess.left(120)\n",
    "\n",
    "tess.right(180)\n",
    "tess.forward(80)\n",
    "\n",
    "alex.forward(50)\n",
    "alex.left(90)\n",
    "alex.forward(50)\n",
    "alex.left(90)\n",
    "alex.forward(50)\n",
    "alex.left(90)\n",
    "alex.forward(50)\n",
    "alex.left(90)\n",
    "\n",
    "wn.exitonclick()"
   ]
  },
  {
   "cell_type": "code",
   "execution_count": null,
   "id": "5f76aeaa",
   "metadata": {},
   "outputs": [],
   "source": []
  }
 ],
 "metadata": {
  "kernelspec": {
   "display_name": "Python 3 (ipykernel)",
   "language": "python",
   "name": "python3"
  },
  "language_info": {
   "codemirror_mode": {
    "name": "ipython",
    "version": 3
   },
   "file_extension": ".py",
   "mimetype": "text/x-python",
   "name": "python",
   "nbconvert_exporter": "python",
   "pygments_lexer": "ipython3",
   "version": "3.9.13"
  }
 },
 "nbformat": 4,
 "nbformat_minor": 5
}
